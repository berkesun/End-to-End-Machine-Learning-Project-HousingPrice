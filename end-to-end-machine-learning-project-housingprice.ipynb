{
 "cells": [
  {
   "cell_type": "code",
   "execution_count": 1,
   "id": "6429a18e",
   "metadata": {
    "_cell_guid": "b1076dfc-b9ad-4769-8c92-a6c4dae69d19",
    "_uuid": "8f2839f25d086af736a60e9eeb907d3b93b6e0e5",
    "execution": {
     "iopub.execute_input": "2022-02-06T22:04:01.588471Z",
     "iopub.status.busy": "2022-02-06T22:04:01.587786Z",
     "iopub.status.idle": "2022-02-06T22:04:01.601892Z",
     "shell.execute_reply": "2022-02-06T22:04:01.602434Z",
     "shell.execute_reply.started": "2022-02-06T20:04:30.719399Z"
    },
    "papermill": {
     "duration": 0.085566,
     "end_time": "2022-02-06T22:04:01.602727",
     "exception": false,
     "start_time": "2022-02-06T22:04:01.517161",
     "status": "completed"
    },
    "tags": []
   },
   "outputs": [
    {
     "name": "stdout",
     "output_type": "stream",
     "text": [
      "/kaggle/input/housing-prices-dataset/Housing.csv\n"
     ]
    }
   ],
   "source": [
    "# This Python 3 environment comes with many helpful analytics libraries installed\n",
    "# It is defined by the kaggle/python Docker image: https://github.com/kaggle/docker-python\n",
    "# For example, here's several helpful packages to load\n",
    "\n",
    "import numpy as np # linear algebra\n",
    "import pandas as pd # data processing, CSV file I/O (e.g. pd.read_csv)\n",
    "import matplotlib.pyplot as plt\n",
    "\n",
    "\n",
    "# Input data files are available in the read-only \"../input/\" directory\n",
    "# For example, running this (by clicking run or pressing Shift+Enter) will list all files under the input directory\n",
    "\n",
    "import os\n",
    "for dirname, _, filenames in os.walk('/kaggle/input'):\n",
    "    for filename in filenames:\n",
    "        print(os.path.join(dirname, filename))\n",
    "\n",
    "# You can write up to 20GB to the current directory (/kaggle/working/) that gets preserved as output when you create a version using \"Save & Run All\" \n",
    "# You can also write temporary files to /kaggle/temp/, but they won't be saved outside of the current session"
   ]
  },
  {
   "cell_type": "markdown",
   "id": "51e64dce",
   "metadata": {
    "papermill": {
     "duration": 0.063291,
     "end_time": "2022-02-06T22:04:01.728700",
     "exception": false,
     "start_time": "2022-02-06T22:04:01.665409",
     "status": "completed"
    },
    "tags": []
   },
   "source": [
    "# Load The Data"
   ]
  },
  {
   "cell_type": "code",
   "execution_count": 2,
   "id": "bbe5ad74",
   "metadata": {
    "execution": {
     "iopub.execute_input": "2022-02-06T22:04:01.856944Z",
     "iopub.status.busy": "2022-02-06T22:04:01.856262Z",
     "iopub.status.idle": "2022-02-06T22:04:01.873720Z",
     "shell.execute_reply": "2022-02-06T22:04:01.874303Z",
     "shell.execute_reply.started": "2022-02-06T20:04:30.764122Z"
    },
    "papermill": {
     "duration": 0.08497,
     "end_time": "2022-02-06T22:04:01.874492",
     "exception": false,
     "start_time": "2022-02-06T22:04:01.789522",
     "status": "completed"
    },
    "tags": []
   },
   "outputs": [],
   "source": [
    "housing = pd.read_csv('../input/housing-prices-dataset/Housing.csv')"
   ]
  },
  {
   "cell_type": "markdown",
   "id": "cb2457cf",
   "metadata": {
    "papermill": {
     "duration": 0.061052,
     "end_time": "2022-02-06T22:04:01.996949",
     "exception": false,
     "start_time": "2022-02-06T22:04:01.935897",
     "status": "completed"
    },
    "tags": []
   },
   "source": [
    "# Take a Quick Look at the Data Structure\n"
   ]
  },
  {
   "cell_type": "code",
   "execution_count": 3,
   "id": "ad97982d",
   "metadata": {
    "execution": {
     "iopub.execute_input": "2022-02-06T22:04:02.124198Z",
     "iopub.status.busy": "2022-02-06T22:04:02.123539Z",
     "iopub.status.idle": "2022-02-06T22:04:02.149786Z",
     "shell.execute_reply": "2022-02-06T22:04:02.150402Z",
     "shell.execute_reply.started": "2022-02-06T20:04:30.784713Z"
    },
    "papermill": {
     "duration": 0.092501,
     "end_time": "2022-02-06T22:04:02.150566",
     "exception": false,
     "start_time": "2022-02-06T22:04:02.058065",
     "status": "completed"
    },
    "tags": []
   },
   "outputs": [
    {
     "data": {
      "text/html": [
       "<div>\n",
       "<style scoped>\n",
       "    .dataframe tbody tr th:only-of-type {\n",
       "        vertical-align: middle;\n",
       "    }\n",
       "\n",
       "    .dataframe tbody tr th {\n",
       "        vertical-align: top;\n",
       "    }\n",
       "\n",
       "    .dataframe thead th {\n",
       "        text-align: right;\n",
       "    }\n",
       "</style>\n",
       "<table border=\"1\" class=\"dataframe\">\n",
       "  <thead>\n",
       "    <tr style=\"text-align: right;\">\n",
       "      <th></th>\n",
       "      <th>price</th>\n",
       "      <th>area</th>\n",
       "      <th>bedrooms</th>\n",
       "      <th>bathrooms</th>\n",
       "      <th>stories</th>\n",
       "      <th>mainroad</th>\n",
       "      <th>guestroom</th>\n",
       "      <th>basement</th>\n",
       "      <th>hotwaterheating</th>\n",
       "      <th>airconditioning</th>\n",
       "      <th>parking</th>\n",
       "      <th>prefarea</th>\n",
       "      <th>furnishingstatus</th>\n",
       "    </tr>\n",
       "  </thead>\n",
       "  <tbody>\n",
       "    <tr>\n",
       "      <th>0</th>\n",
       "      <td>13300000</td>\n",
       "      <td>7420</td>\n",
       "      <td>4</td>\n",
       "      <td>2</td>\n",
       "      <td>3</td>\n",
       "      <td>yes</td>\n",
       "      <td>no</td>\n",
       "      <td>no</td>\n",
       "      <td>no</td>\n",
       "      <td>yes</td>\n",
       "      <td>2</td>\n",
       "      <td>yes</td>\n",
       "      <td>furnished</td>\n",
       "    </tr>\n",
       "    <tr>\n",
       "      <th>1</th>\n",
       "      <td>12250000</td>\n",
       "      <td>8960</td>\n",
       "      <td>4</td>\n",
       "      <td>4</td>\n",
       "      <td>4</td>\n",
       "      <td>yes</td>\n",
       "      <td>no</td>\n",
       "      <td>no</td>\n",
       "      <td>no</td>\n",
       "      <td>yes</td>\n",
       "      <td>3</td>\n",
       "      <td>no</td>\n",
       "      <td>furnished</td>\n",
       "    </tr>\n",
       "    <tr>\n",
       "      <th>2</th>\n",
       "      <td>12250000</td>\n",
       "      <td>9960</td>\n",
       "      <td>3</td>\n",
       "      <td>2</td>\n",
       "      <td>2</td>\n",
       "      <td>yes</td>\n",
       "      <td>no</td>\n",
       "      <td>yes</td>\n",
       "      <td>no</td>\n",
       "      <td>no</td>\n",
       "      <td>2</td>\n",
       "      <td>yes</td>\n",
       "      <td>semi-furnished</td>\n",
       "    </tr>\n",
       "    <tr>\n",
       "      <th>3</th>\n",
       "      <td>12215000</td>\n",
       "      <td>7500</td>\n",
       "      <td>4</td>\n",
       "      <td>2</td>\n",
       "      <td>2</td>\n",
       "      <td>yes</td>\n",
       "      <td>no</td>\n",
       "      <td>yes</td>\n",
       "      <td>no</td>\n",
       "      <td>yes</td>\n",
       "      <td>3</td>\n",
       "      <td>yes</td>\n",
       "      <td>furnished</td>\n",
       "    </tr>\n",
       "    <tr>\n",
       "      <th>4</th>\n",
       "      <td>11410000</td>\n",
       "      <td>7420</td>\n",
       "      <td>4</td>\n",
       "      <td>1</td>\n",
       "      <td>2</td>\n",
       "      <td>yes</td>\n",
       "      <td>yes</td>\n",
       "      <td>yes</td>\n",
       "      <td>no</td>\n",
       "      <td>yes</td>\n",
       "      <td>2</td>\n",
       "      <td>no</td>\n",
       "      <td>furnished</td>\n",
       "    </tr>\n",
       "  </tbody>\n",
       "</table>\n",
       "</div>"
      ],
      "text/plain": [
       "      price  area  bedrooms  bathrooms  stories mainroad guestroom basement  \\\n",
       "0  13300000  7420         4          2        3      yes        no       no   \n",
       "1  12250000  8960         4          4        4      yes        no       no   \n",
       "2  12250000  9960         3          2        2      yes        no      yes   \n",
       "3  12215000  7500         4          2        2      yes        no      yes   \n",
       "4  11410000  7420         4          1        2      yes       yes      yes   \n",
       "\n",
       "  hotwaterheating airconditioning  parking prefarea furnishingstatus  \n",
       "0              no             yes        2      yes        furnished  \n",
       "1              no             yes        3       no        furnished  \n",
       "2              no              no        2      yes   semi-furnished  \n",
       "3              no             yes        3      yes        furnished  \n",
       "4              no             yes        2       no        furnished  "
      ]
     },
     "execution_count": 3,
     "metadata": {},
     "output_type": "execute_result"
    }
   ],
   "source": [
    "housing.head()"
   ]
  },
  {
   "cell_type": "markdown",
   "id": "906278c1",
   "metadata": {
    "papermill": {
     "duration": 0.068502,
     "end_time": "2022-02-06T22:04:02.288998",
     "exception": false,
     "start_time": "2022-02-06T22:04:02.220496",
     "status": "completed"
    },
    "tags": []
   },
   "source": [
    "# Information About Data\n"
   ]
  },
  {
   "cell_type": "code",
   "execution_count": 4,
   "id": "0ad01a76",
   "metadata": {
    "execution": {
     "iopub.execute_input": "2022-02-06T22:04:02.421867Z",
     "iopub.status.busy": "2022-02-06T22:04:02.421280Z",
     "iopub.status.idle": "2022-02-06T22:04:02.446502Z",
     "shell.execute_reply": "2022-02-06T22:04:02.447160Z",
     "shell.execute_reply.started": "2022-02-06T20:04:30.815714Z"
    },
    "papermill": {
     "duration": 0.09175,
     "end_time": "2022-02-06T22:04:02.447382",
     "exception": false,
     "start_time": "2022-02-06T22:04:02.355632",
     "status": "completed"
    },
    "tags": []
   },
   "outputs": [
    {
     "name": "stdout",
     "output_type": "stream",
     "text": [
      "<class 'pandas.core.frame.DataFrame'>\n",
      "RangeIndex: 545 entries, 0 to 544\n",
      "Data columns (total 13 columns):\n",
      " #   Column            Non-Null Count  Dtype \n",
      "---  ------            --------------  ----- \n",
      " 0   price             545 non-null    int64 \n",
      " 1   area              545 non-null    int64 \n",
      " 2   bedrooms          545 non-null    int64 \n",
      " 3   bathrooms         545 non-null    int64 \n",
      " 4   stories           545 non-null    int64 \n",
      " 5   mainroad          545 non-null    object\n",
      " 6   guestroom         545 non-null    object\n",
      " 7   basement          545 non-null    object\n",
      " 8   hotwaterheating   545 non-null    object\n",
      " 9   airconditioning   545 non-null    object\n",
      " 10  parking           545 non-null    int64 \n",
      " 11  prefarea          545 non-null    object\n",
      " 12  furnishingstatus  545 non-null    object\n",
      "dtypes: int64(6), object(7)\n",
      "memory usage: 55.5+ KB\n"
     ]
    }
   ],
   "source": [
    "housing.info()"
   ]
  },
  {
   "cell_type": "markdown",
   "id": "a766e868",
   "metadata": {
    "papermill": {
     "duration": 0.061866,
     "end_time": "2022-02-06T22:04:02.572931",
     "exception": false,
     "start_time": "2022-02-06T22:04:02.511065",
     "status": "completed"
    },
    "tags": []
   },
   "source": [
    "# Values Of Our Categorical Variable"
   ]
  },
  {
   "cell_type": "code",
   "execution_count": 5,
   "id": "58f3be1c",
   "metadata": {
    "execution": {
     "iopub.execute_input": "2022-02-06T22:04:02.704868Z",
     "iopub.status.busy": "2022-02-06T22:04:02.700884Z",
     "iopub.status.idle": "2022-02-06T22:04:02.707616Z",
     "shell.execute_reply": "2022-02-06T22:04:02.708205Z",
     "shell.execute_reply.started": "2022-02-06T20:04:30.848907Z"
    },
    "papermill": {
     "duration": 0.072062,
     "end_time": "2022-02-06T22:04:02.708370",
     "exception": false,
     "start_time": "2022-02-06T22:04:02.636308",
     "status": "completed"
    },
    "tags": []
   },
   "outputs": [
    {
     "data": {
      "text/plain": [
       "yes    468\n",
       "no      77\n",
       "Name: mainroad, dtype: int64"
      ]
     },
     "execution_count": 5,
     "metadata": {},
     "output_type": "execute_result"
    }
   ],
   "source": [
    "housing[\"mainroad\"].value_counts()\n",
    "# housing[\"guestroom\"].value_counts()\n",
    "# housing[\"basement\"].value_counts()\n",
    "# housing[\"hotwaterheating\"].value_counts()\n",
    "# housing[\"airconditioning\"].value_counts()\n",
    "# housing[\"prefarea\"].value_counts()\n",
    "# housing[\"furnishingstatus\"].value_counts()\n",
    "\n"
   ]
  },
  {
   "cell_type": "markdown",
   "id": "b1261c13",
   "metadata": {
    "papermill": {
     "duration": 0.06442,
     "end_time": "2022-02-06T22:04:02.835675",
     "exception": false,
     "start_time": "2022-02-06T22:04:02.771255",
     "status": "completed"
    },
    "tags": []
   },
   "source": [
    "# Summary Of Integer Variables\n"
   ]
  },
  {
   "cell_type": "code",
   "execution_count": 6,
   "id": "3b1587e6",
   "metadata": {
    "execution": {
     "iopub.execute_input": "2022-02-06T22:04:02.966596Z",
     "iopub.status.busy": "2022-02-06T22:04:02.965882Z",
     "iopub.status.idle": "2022-02-06T22:04:02.997452Z",
     "shell.execute_reply": "2022-02-06T22:04:02.997974Z",
     "shell.execute_reply.started": "2022-02-06T20:04:30.858571Z"
    },
    "papermill": {
     "duration": 0.098238,
     "end_time": "2022-02-06T22:04:02.998166",
     "exception": false,
     "start_time": "2022-02-06T22:04:02.899928",
     "status": "completed"
    },
    "tags": []
   },
   "outputs": [
    {
     "data": {
      "text/html": [
       "<div>\n",
       "<style scoped>\n",
       "    .dataframe tbody tr th:only-of-type {\n",
       "        vertical-align: middle;\n",
       "    }\n",
       "\n",
       "    .dataframe tbody tr th {\n",
       "        vertical-align: top;\n",
       "    }\n",
       "\n",
       "    .dataframe thead th {\n",
       "        text-align: right;\n",
       "    }\n",
       "</style>\n",
       "<table border=\"1\" class=\"dataframe\">\n",
       "  <thead>\n",
       "    <tr style=\"text-align: right;\">\n",
       "      <th></th>\n",
       "      <th>price</th>\n",
       "      <th>area</th>\n",
       "      <th>bedrooms</th>\n",
       "      <th>bathrooms</th>\n",
       "      <th>stories</th>\n",
       "      <th>parking</th>\n",
       "    </tr>\n",
       "  </thead>\n",
       "  <tbody>\n",
       "    <tr>\n",
       "      <th>count</th>\n",
       "      <td>5.450000e+02</td>\n",
       "      <td>545.000000</td>\n",
       "      <td>545.000000</td>\n",
       "      <td>545.000000</td>\n",
       "      <td>545.000000</td>\n",
       "      <td>545.000000</td>\n",
       "    </tr>\n",
       "    <tr>\n",
       "      <th>mean</th>\n",
       "      <td>4.766729e+06</td>\n",
       "      <td>5150.541284</td>\n",
       "      <td>2.965138</td>\n",
       "      <td>1.286239</td>\n",
       "      <td>1.805505</td>\n",
       "      <td>0.693578</td>\n",
       "    </tr>\n",
       "    <tr>\n",
       "      <th>std</th>\n",
       "      <td>1.870440e+06</td>\n",
       "      <td>2170.141023</td>\n",
       "      <td>0.738064</td>\n",
       "      <td>0.502470</td>\n",
       "      <td>0.867492</td>\n",
       "      <td>0.861586</td>\n",
       "    </tr>\n",
       "    <tr>\n",
       "      <th>min</th>\n",
       "      <td>1.750000e+06</td>\n",
       "      <td>1650.000000</td>\n",
       "      <td>1.000000</td>\n",
       "      <td>1.000000</td>\n",
       "      <td>1.000000</td>\n",
       "      <td>0.000000</td>\n",
       "    </tr>\n",
       "    <tr>\n",
       "      <th>25%</th>\n",
       "      <td>3.430000e+06</td>\n",
       "      <td>3600.000000</td>\n",
       "      <td>2.000000</td>\n",
       "      <td>1.000000</td>\n",
       "      <td>1.000000</td>\n",
       "      <td>0.000000</td>\n",
       "    </tr>\n",
       "    <tr>\n",
       "      <th>50%</th>\n",
       "      <td>4.340000e+06</td>\n",
       "      <td>4600.000000</td>\n",
       "      <td>3.000000</td>\n",
       "      <td>1.000000</td>\n",
       "      <td>2.000000</td>\n",
       "      <td>0.000000</td>\n",
       "    </tr>\n",
       "    <tr>\n",
       "      <th>75%</th>\n",
       "      <td>5.740000e+06</td>\n",
       "      <td>6360.000000</td>\n",
       "      <td>3.000000</td>\n",
       "      <td>2.000000</td>\n",
       "      <td>2.000000</td>\n",
       "      <td>1.000000</td>\n",
       "    </tr>\n",
       "    <tr>\n",
       "      <th>max</th>\n",
       "      <td>1.330000e+07</td>\n",
       "      <td>16200.000000</td>\n",
       "      <td>6.000000</td>\n",
       "      <td>4.000000</td>\n",
       "      <td>4.000000</td>\n",
       "      <td>3.000000</td>\n",
       "    </tr>\n",
       "  </tbody>\n",
       "</table>\n",
       "</div>"
      ],
      "text/plain": [
       "              price          area    bedrooms   bathrooms     stories  \\\n",
       "count  5.450000e+02    545.000000  545.000000  545.000000  545.000000   \n",
       "mean   4.766729e+06   5150.541284    2.965138    1.286239    1.805505   \n",
       "std    1.870440e+06   2170.141023    0.738064    0.502470    0.867492   \n",
       "min    1.750000e+06   1650.000000    1.000000    1.000000    1.000000   \n",
       "25%    3.430000e+06   3600.000000    2.000000    1.000000    1.000000   \n",
       "50%    4.340000e+06   4600.000000    3.000000    1.000000    2.000000   \n",
       "75%    5.740000e+06   6360.000000    3.000000    2.000000    2.000000   \n",
       "max    1.330000e+07  16200.000000    6.000000    4.000000    4.000000   \n",
       "\n",
       "          parking  \n",
       "count  545.000000  \n",
       "mean     0.693578  \n",
       "std      0.861586  \n",
       "min      0.000000  \n",
       "25%      0.000000  \n",
       "50%      0.000000  \n",
       "75%      1.000000  \n",
       "max      3.000000  "
      ]
     },
     "execution_count": 6,
     "metadata": {},
     "output_type": "execute_result"
    }
   ],
   "source": [
    "housing.describe()"
   ]
  },
  {
   "cell_type": "markdown",
   "id": "079878bf",
   "metadata": {
    "papermill": {
     "duration": 0.06342,
     "end_time": "2022-02-06T22:04:03.125393",
     "exception": false,
     "start_time": "2022-02-06T22:04:03.061973",
     "status": "completed"
    },
    "tags": []
   },
   "source": [
    "#  Histogram Plot For Integer Variables"
   ]
  },
  {
   "cell_type": "code",
   "execution_count": 7,
   "id": "3882c1a2",
   "metadata": {
    "execution": {
     "iopub.execute_input": "2022-02-06T22:04:03.259505Z",
     "iopub.status.busy": "2022-02-06T22:04:03.258811Z",
     "iopub.status.idle": "2022-02-06T22:04:04.795498Z",
     "shell.execute_reply": "2022-02-06T22:04:04.794944Z",
     "shell.execute_reply.started": "2022-02-06T20:04:30.900045Z"
    },
    "papermill": {
     "duration": 1.605427,
     "end_time": "2022-02-06T22:04:04.795614",
     "exception": false,
     "start_time": "2022-02-06T22:04:03.190187",
     "status": "completed"
    },
    "tags": []
   },
   "outputs": [
    {
     "data": {
      "image/png": "[encoded data removed]",
      "text/plain": [
       "<Figure size 1440x1080 with 6 Axes>"
      ]
     },
     "metadata": {
      "needs_background": "light"
     },
     "output_type": "display_data"
    }
   ],
   "source": [
    "housing.hist(bins = 50, figsize = (20,15))\n",
    "plt.show()"
   ]
  },
  {
   "cell_type": "markdown",
   "id": "9ca9f371",
   "metadata": {
    "papermill": {
     "duration": 0.041844,
     "end_time": "2022-02-06T22:04:04.880236",
     "exception": false,
     "start_time": "2022-02-06T22:04:04.838392",
     "status": "completed"
    },
    "tags": []
   },
   "source": [
    "# Create a Test Set\n"
   ]
  },
  {
   "cell_type": "code",
   "execution_count": 8,
   "id": "1e7a83cf",
   "metadata": {
    "execution": {
     "iopub.execute_input": "2022-02-06T22:04:04.967278Z",
     "iopub.status.busy": "2022-02-06T22:04:04.966741Z",
     "iopub.status.idle": "2022-02-06T22:04:06.036477Z",
     "shell.execute_reply": "2022-02-06T22:04:06.035929Z",
     "shell.execute_reply.started": "2022-02-06T20:04:32.550249Z"
    },
    "papermill": {
     "duration": 1.115272,
     "end_time": "2022-02-06T22:04:06.036595",
     "exception": false,
     "start_time": "2022-02-06T22:04:04.921323",
     "status": "completed"
    },
    "tags": []
   },
   "outputs": [
    {
     "data": {
      "text/html": [
       "<div>\n",
       "<style scoped>\n",
       "    .dataframe tbody tr th:only-of-type {\n",
       "        vertical-align: middle;\n",
       "    }\n",
       "\n",
       "    .dataframe tbody tr th {\n",
       "        vertical-align: top;\n",
       "    }\n",
       "\n",
       "    .dataframe thead th {\n",
       "        text-align: right;\n",
       "    }\n",
       "</style>\n",
       "<table border=\"1\" class=\"dataframe\">\n",
       "  <thead>\n",
       "    <tr style=\"text-align: right;\">\n",
       "      <th></th>\n",
       "      <th>price</th>\n",
       "      <th>area</th>\n",
       "      <th>bedrooms</th>\n",
       "      <th>bathrooms</th>\n",
       "      <th>stories</th>\n",
       "      <th>mainroad</th>\n",
       "      <th>guestroom</th>\n",
       "      <th>basement</th>\n",
       "      <th>hotwaterheating</th>\n",
       "      <th>airconditioning</th>\n",
       "      <th>parking</th>\n",
       "      <th>prefarea</th>\n",
       "      <th>furnishingstatus</th>\n",
       "    </tr>\n",
       "  </thead>\n",
       "  <tbody>\n",
       "    <tr>\n",
       "      <th>316</th>\n",
       "      <td>4060000</td>\n",
       "      <td>5900</td>\n",
       "      <td>4</td>\n",
       "      <td>2</td>\n",
       "      <td>2</td>\n",
       "      <td>no</td>\n",
       "      <td>no</td>\n",
       "      <td>yes</td>\n",
       "      <td>no</td>\n",
       "      <td>no</td>\n",
       "      <td>1</td>\n",
       "      <td>no</td>\n",
       "      <td>unfurnished</td>\n",
       "    </tr>\n",
       "    <tr>\n",
       "      <th>77</th>\n",
       "      <td>6650000</td>\n",
       "      <td>6500</td>\n",
       "      <td>3</td>\n",
       "      <td>2</td>\n",
       "      <td>3</td>\n",
       "      <td>yes</td>\n",
       "      <td>no</td>\n",
       "      <td>no</td>\n",
       "      <td>no</td>\n",
       "      <td>yes</td>\n",
       "      <td>0</td>\n",
       "      <td>yes</td>\n",
       "      <td>furnished</td>\n",
       "    </tr>\n",
       "    <tr>\n",
       "      <th>360</th>\n",
       "      <td>3710000</td>\n",
       "      <td>4040</td>\n",
       "      <td>2</td>\n",
       "      <td>1</td>\n",
       "      <td>1</td>\n",
       "      <td>yes</td>\n",
       "      <td>no</td>\n",
       "      <td>no</td>\n",
       "      <td>no</td>\n",
       "      <td>no</td>\n",
       "      <td>0</td>\n",
       "      <td>no</td>\n",
       "      <td>semi-furnished</td>\n",
       "    </tr>\n",
       "    <tr>\n",
       "      <th>90</th>\n",
       "      <td>6440000</td>\n",
       "      <td>5000</td>\n",
       "      <td>3</td>\n",
       "      <td>1</td>\n",
       "      <td>2</td>\n",
       "      <td>yes</td>\n",
       "      <td>no</td>\n",
       "      <td>no</td>\n",
       "      <td>no</td>\n",
       "      <td>yes</td>\n",
       "      <td>0</td>\n",
       "      <td>no</td>\n",
       "      <td>semi-furnished</td>\n",
       "    </tr>\n",
       "    <tr>\n",
       "      <th>493</th>\n",
       "      <td>2800000</td>\n",
       "      <td>3960</td>\n",
       "      <td>3</td>\n",
       "      <td>1</td>\n",
       "      <td>1</td>\n",
       "      <td>yes</td>\n",
       "      <td>no</td>\n",
       "      <td>no</td>\n",
       "      <td>no</td>\n",
       "      <td>no</td>\n",
       "      <td>0</td>\n",
       "      <td>no</td>\n",
       "      <td>furnished</td>\n",
       "    </tr>\n",
       "  </tbody>\n",
       "</table>\n",
       "</div>"
      ],
      "text/plain": [
       "       price  area  bedrooms  bathrooms  stories mainroad guestroom basement  \\\n",
       "316  4060000  5900         4          2        2       no        no      yes   \n",
       "77   6650000  6500         3          2        3      yes        no       no   \n",
       "360  3710000  4040         2          1        1      yes        no       no   \n",
       "90   6440000  5000         3          1        2      yes        no       no   \n",
       "493  2800000  3960         3          1        1      yes        no       no   \n",
       "\n",
       "    hotwaterheating airconditioning  parking prefarea furnishingstatus  \n",
       "316              no              no        1       no      unfurnished  \n",
       "77               no             yes        0      yes        furnished  \n",
       "360              no              no        0       no   semi-furnished  \n",
       "90               no             yes        0       no   semi-furnished  \n",
       "493              no              no        0       no        furnished  "
      ]
     },
     "execution_count": 8,
     "metadata": {},
     "output_type": "execute_result"
    }
   ],
   "source": [
    "from sklearn.model_selection import train_test_split\n",
    "train_set, test_set = train_test_split(housing, test_size=0.2, random_state=42)\n",
    "test_set.head()"
   ]
  },
  {
   "cell_type": "code",
   "execution_count": 9,
   "id": "bee139ad",
   "metadata": {
    "execution": {
     "iopub.execute_input": "2022-02-06T22:04:06.159080Z",
     "iopub.status.busy": "2022-02-06T22:04:06.148163Z",
     "iopub.status.idle": "2022-02-06T22:04:06.346065Z",
     "shell.execute_reply": "2022-02-06T22:04:06.346472Z",
     "shell.execute_reply.started": "2022-02-06T20:04:33.756901Z"
    },
    "papermill": {
     "duration": 0.266414,
     "end_time": "2022-02-06T22:04:06.346630",
     "exception": false,
     "start_time": "2022-02-06T22:04:06.080216",
     "status": "completed"
    },
    "tags": []
   },
   "outputs": [
    {
     "data": {
      "text/plain": [
       "<AxesSubplot:>"
      ]
     },
     "execution_count": 9,
     "metadata": {},
     "output_type": "execute_result"
    },
    {
     "data": {
      "image/png": "[encoded data removed]",
      "text/plain": [
       "<Figure size 432x288 with 1 Axes>"
      ]
     },
     "metadata": {
      "needs_background": "light"
     },
     "output_type": "display_data"
    }
   ],
   "source": [
    "housing[\"area\"].hist()"
   ]
  },
  {
   "cell_type": "code",
   "execution_count": 10,
   "id": "e4d6025a",
   "metadata": {
    "execution": {
     "iopub.execute_input": "2022-02-06T22:04:06.437495Z",
     "iopub.status.busy": "2022-02-06T22:04:06.436939Z",
     "iopub.status.idle": "2022-02-06T22:04:06.445118Z",
     "shell.execute_reply": "2022-02-06T22:04:06.445511Z",
     "shell.execute_reply.started": "2022-02-06T20:04:34.033804Z"
    },
    "papermill": {
     "duration": 0.05496,
     "end_time": "2022-02-06T22:04:06.445659",
     "exception": false,
     "start_time": "2022-02-06T22:04:06.390699",
     "status": "completed"
    },
    "tags": []
   },
   "outputs": [],
   "source": [
    "housing[\"area_cat\"] = pd.cut(housing[\"area\"],\n",
    "                               bins=[0., 2000, 4000, 6000, 8000, np.inf],\n",
    "                               labels=[1, 2, 3, 4, 5])"
   ]
  },
  {
   "cell_type": "code",
   "execution_count": 11,
   "id": "767b243d",
   "metadata": {
    "execution": {
     "iopub.execute_input": "2022-02-06T22:04:06.539714Z",
     "iopub.status.busy": "2022-02-06T22:04:06.536487Z",
     "iopub.status.idle": "2022-02-06T22:04:06.546923Z",
     "shell.execute_reply": "2022-02-06T22:04:06.546340Z",
     "shell.execute_reply.started": "2022-02-06T20:04:34.048685Z"
    },
    "papermill": {
     "duration": 0.056916,
     "end_time": "2022-02-06T22:04:06.547086",
     "exception": false,
     "start_time": "2022-02-06T22:04:06.490170",
     "status": "completed"
    },
    "tags": []
   },
   "outputs": [
    {
     "data": {
      "text/plain": [
       "2    200\n",
       "3    181\n",
       "4    104\n",
       "5     53\n",
       "1      7\n",
       "Name: area_cat, dtype: int64"
      ]
     },
     "execution_count": 11,
     "metadata": {},
     "output_type": "execute_result"
    }
   ],
   "source": [
    "housing[\"area_cat\"].value_counts()\n"
   ]
  },
  {
   "cell_type": "code",
   "execution_count": 12,
   "id": "29eaa550",
   "metadata": {
    "execution": {
     "iopub.execute_input": "2022-02-06T22:04:06.641503Z",
     "iopub.status.busy": "2022-02-06T22:04:06.640941Z",
     "iopub.status.idle": "2022-02-06T22:04:06.645849Z",
     "shell.execute_reply": "2022-02-06T22:04:06.646270Z",
     "shell.execute_reply.started": "2022-02-06T20:04:34.069207Z"
    },
    "papermill": {
     "duration": 0.055365,
     "end_time": "2022-02-06T22:04:06.646413",
     "exception": false,
     "start_time": "2022-02-06T22:04:06.591048",
     "status": "completed"
    },
    "tags": []
   },
   "outputs": [],
   "source": [
    "from sklearn.model_selection import StratifiedShuffleSplit\n",
    "\n",
    "split = StratifiedShuffleSplit(n_splits=1, test_size=0.2, random_state=42)\n",
    "for train_index, test_index in split.split(housing, housing[\"area_cat\"]):\n",
    "    strat_train_set = housing.loc[train_index]\n",
    "    strat_test_set = housing.loc[test_index]"
   ]
  },
  {
   "cell_type": "code",
   "execution_count": 13,
   "id": "0057348c",
   "metadata": {
    "execution": {
     "iopub.execute_input": "2022-02-06T22:04:06.738272Z",
     "iopub.status.busy": "2022-02-06T22:04:06.737623Z",
     "iopub.status.idle": "2022-02-06T22:04:06.744530Z",
     "shell.execute_reply": "2022-02-06T22:04:06.744976Z",
     "shell.execute_reply.started": "2022-02-06T20:04:34.089228Z"
    },
    "papermill": {
     "duration": 0.054243,
     "end_time": "2022-02-06T22:04:06.745141",
     "exception": false,
     "start_time": "2022-02-06T22:04:06.690898",
     "status": "completed"
    },
    "tags": []
   },
   "outputs": [
    {
     "data": {
      "text/plain": [
       "2    0.366972\n",
       "3    0.332110\n",
       "4    0.190826\n",
       "5    0.097248\n",
       "1    0.012844\n",
       "Name: area_cat, dtype: float64"
      ]
     },
     "execution_count": 13,
     "metadata": {},
     "output_type": "execute_result"
    }
   ],
   "source": [
    "housing[\"area_cat\"].value_counts() / len(housing)\n"
   ]
  },
  {
   "cell_type": "code",
   "execution_count": 14,
   "id": "aa7ee20d",
   "metadata": {
    "execution": {
     "iopub.execute_input": "2022-02-06T22:04:06.837143Z",
     "iopub.status.busy": "2022-02-06T22:04:06.836447Z",
     "iopub.status.idle": "2022-02-06T22:04:06.844234Z",
     "shell.execute_reply": "2022-02-06T22:04:06.843743Z",
     "shell.execute_reply.started": "2022-02-06T20:04:34.111610Z"
    },
    "papermill": {
     "duration": 0.055357,
     "end_time": "2022-02-06T22:04:06.844338",
     "exception": false,
     "start_time": "2022-02-06T22:04:06.788981",
     "status": "completed"
    },
    "tags": []
   },
   "outputs": [
    {
     "data": {
      "text/plain": [
       "2    0.366972\n",
       "3    0.330275\n",
       "4    0.192661\n",
       "5    0.100917\n",
       "1    0.009174\n",
       "Name: area_cat, dtype: float64"
      ]
     },
     "execution_count": 14,
     "metadata": {},
     "output_type": "execute_result"
    }
   ],
   "source": [
    "strat_test_set[\"area_cat\"].value_counts() / len(strat_test_set)\n"
   ]
  },
  {
   "cell_type": "markdown",
   "id": "12789919",
   "metadata": {
    "papermill": {
     "duration": 0.043814,
     "end_time": "2022-02-06T22:04:06.932311",
     "exception": false,
     "start_time": "2022-02-06T22:04:06.888497",
     "status": "completed"
    },
    "tags": []
   },
   "source": [
    "# Discover and Visualize the Data to Gain Insights and Looking for Correlations\n",
    "\n",
    " "
   ]
  },
  {
   "cell_type": "code",
   "execution_count": 15,
   "id": "efea3008",
   "metadata": {
    "execution": {
     "iopub.execute_input": "2022-02-06T22:04:07.024697Z",
     "iopub.status.busy": "2022-02-06T22:04:07.023952Z",
     "iopub.status.idle": "2022-02-06T22:04:07.027523Z",
     "shell.execute_reply": "2022-02-06T22:04:07.027917Z",
     "shell.execute_reply.started": "2022-02-06T20:04:34.132428Z"
    },
    "papermill": {
     "duration": 0.05134,
     "end_time": "2022-02-06T22:04:07.028090",
     "exception": false,
     "start_time": "2022-02-06T22:04:06.976750",
     "status": "completed"
    },
    "tags": []
   },
   "outputs": [],
   "source": [
    "housing = strat_train_set.copy()\n"
   ]
  },
  {
   "cell_type": "code",
   "execution_count": 16,
   "id": "7de92ed0",
   "metadata": {
    "execution": {
     "iopub.execute_input": "2022-02-06T22:04:07.117565Z",
     "iopub.status.busy": "2022-02-06T22:04:07.113879Z",
     "iopub.status.idle": "2022-02-06T22:04:07.125203Z",
     "shell.execute_reply": "2022-02-06T22:04:07.124664Z",
     "shell.execute_reply.started": "2022-02-06T20:04:34.141276Z"
    },
    "papermill": {
     "duration": 0.055685,
     "end_time": "2022-02-06T22:04:07.125313",
     "exception": false,
     "start_time": "2022-02-06T22:04:07.069628",
     "status": "completed"
    },
    "tags": []
   },
   "outputs": [
    {
     "data": {
      "text/plain": [
       "price        1.000000\n",
       "bathrooms    0.555899\n",
       "area         0.518666\n",
       "stories      0.422540\n",
       "parking      0.407808\n",
       "bedrooms     0.375640\n",
       "Name: price, dtype: float64"
      ]
     },
     "execution_count": 16,
     "metadata": {},
     "output_type": "execute_result"
    }
   ],
   "source": [
    "corr_matrix = housing.corr()\n",
    "corr_matrix[\"price\"].sort_values(ascending=False)\n"
   ]
  },
  {
   "cell_type": "code",
   "execution_count": 17,
   "id": "5a94724b",
   "metadata": {
    "execution": {
     "iopub.execute_input": "2022-02-06T22:04:07.225694Z",
     "iopub.status.busy": "2022-02-06T22:04:07.222197Z",
     "iopub.status.idle": "2022-02-06T22:04:07.428174Z",
     "shell.execute_reply": "2022-02-06T22:04:07.428538Z",
     "shell.execute_reply.started": "2022-02-06T20:04:34.164311Z"
    },
    "papermill": {
     "duration": 0.259098,
     "end_time": "2022-02-06T22:04:07.428678",
     "exception": false,
     "start_time": "2022-02-06T22:04:07.169580",
     "status": "completed"
    },
    "tags": []
   },
   "outputs": [
    {
     "data": {
      "text/plain": [
       "<AxesSubplot:xlabel='area', ylabel='price'>"
      ]
     },
     "execution_count": 17,
     "metadata": {},
     "output_type": "execute_result"
    },
    {
     "data": {
      "image/png": "[encoded data removed]",
      "text/plain": [
       "<Figure size 432x288 with 1 Axes>"
      ]
     },
     "metadata": {
      "needs_background": "light"
     },
     "output_type": "display_data"
    }
   ],
   "source": [
    "housing.plot(kind=\"scatter\", x=\"area\", y=\"price\", alpha=0.3)\n"
   ]
  },
  {
   "cell_type": "code",
   "execution_count": 18,
   "id": "f36d742a",
   "metadata": {
    "execution": {
     "iopub.execute_input": "2022-02-06T22:04:07.525599Z",
     "iopub.status.busy": "2022-02-06T22:04:07.524900Z",
     "iopub.status.idle": "2022-02-06T22:04:07.824946Z",
     "shell.execute_reply": "2022-02-06T22:04:07.824514Z",
     "shell.execute_reply.started": "2022-02-06T20:04:34.391716Z"
    },
    "papermill": {
     "duration": 0.351211,
     "end_time": "2022-02-06T22:04:07.825073",
     "exception": false,
     "start_time": "2022-02-06T22:04:07.473862",
     "status": "completed"
    },
    "tags": []
   },
   "outputs": [
    {
     "data": {
      "text/plain": [
       "<AxesSubplot:xlabel='bathrooms', ylabel='price'>"
      ]
     },
     "execution_count": 18,
     "metadata": {},
     "output_type": "execute_result"
    },
    {
     "data": {
      "image/png": "[encoded data removed]",
      "text/plain": [
       "<Figure size 432x288 with 1 Axes>"
      ]
     },
     "metadata": {
      "needs_background": "light"
     },
     "output_type": "display_data"
    }
   ],
   "source": [
    "housing.plot(kind=\"scatter\", x=\"bathrooms\", y=\"price\", alpha=0.3)\n"
   ]
  },
  {
   "cell_type": "code",
   "execution_count": 19,
   "id": "d432c443",
   "metadata": {
    "execution": {
     "iopub.execute_input": "2022-02-06T22:04:07.925951Z",
     "iopub.status.busy": "2022-02-06T22:04:07.925448Z",
     "iopub.status.idle": "2022-02-06T22:04:07.932282Z",
     "shell.execute_reply": "2022-02-06T22:04:07.931727Z",
     "shell.execute_reply.started": "2022-02-06T20:04:34.722235Z"
    },
    "papermill": {
     "duration": 0.060642,
     "end_time": "2022-02-06T22:04:07.932398",
     "exception": false,
     "start_time": "2022-02-06T22:04:07.871756",
     "status": "completed"
    },
    "tags": []
   },
   "outputs": [
    {
     "data": {
      "text/plain": [
       "price        1.000000\n",
       "lux_home     0.619887\n",
       "bathrooms    0.555899\n",
       "area         0.518666\n",
       "stories      0.422540\n",
       "parking      0.407808\n",
       "bedrooms     0.375640\n",
       "Name: price, dtype: float64"
      ]
     },
     "execution_count": 19,
     "metadata": {},
     "output_type": "execute_result"
    }
   ],
   "source": [
    "housing[\"lux_home\"] = housing[\"bathrooms\"] + housing[\"bedrooms\"] + housing[\"parking\"]\n",
    "corr_matrix = housing.corr()\n",
    "corr_matrix[\"price\"].sort_values(ascending=False)"
   ]
  },
  {
   "cell_type": "markdown",
   "id": "636dd7e6",
   "metadata": {
    "papermill": {
     "duration": 0.046507,
     "end_time": "2022-02-06T22:04:08.025443",
     "exception": false,
     "start_time": "2022-02-06T22:04:07.978936",
     "status": "completed"
    },
    "tags": []
   },
   "source": [
    "# Prepare the Data for Machine Learning Algorithms\n"
   ]
  },
  {
   "cell_type": "code",
   "execution_count": 20,
   "id": "de9613d8",
   "metadata": {
    "execution": {
     "iopub.execute_input": "2022-02-06T22:04:08.125296Z",
     "iopub.status.busy": "2022-02-06T22:04:08.124646Z",
     "iopub.status.idle": "2022-02-06T22:04:08.129362Z",
     "shell.execute_reply": "2022-02-06T22:04:08.128818Z",
     "shell.execute_reply.started": "2022-02-06T21:08:12.910761Z"
    },
    "papermill": {
     "duration": 0.057076,
     "end_time": "2022-02-06T22:04:08.129475",
     "exception": false,
     "start_time": "2022-02-06T22:04:08.072399",
     "status": "completed"
    },
    "tags": []
   },
   "outputs": [],
   "source": [
    "housing = strat_train_set.drop(\"price\", axis=1) # drop labels for training set\n",
    "housing_labels = strat_train_set[\"price\"].copy()"
   ]
  },
  {
   "cell_type": "markdown",
   "id": "2acc910e",
   "metadata": {
    "papermill": {
     "duration": 0.047054,
     "end_time": "2022-02-06T22:04:08.223482",
     "exception": false,
     "start_time": "2022-02-06T22:04:08.176428",
     "status": "completed"
    },
    "tags": []
   },
   "source": [
    "# Data Cleaning\n"
   ]
  },
  {
   "cell_type": "code",
   "execution_count": 21,
   "id": "25cee1c9",
   "metadata": {
    "execution": {
     "iopub.execute_input": "2022-02-06T22:04:08.323242Z",
     "iopub.status.busy": "2022-02-06T22:04:08.321458Z",
     "iopub.status.idle": "2022-02-06T22:04:08.326557Z",
     "shell.execute_reply": "2022-02-06T22:04:08.326917Z",
     "shell.execute_reply.started": "2022-02-06T21:08:16.396835Z"
    },
    "papermill": {
     "duration": 0.055502,
     "end_time": "2022-02-06T22:04:08.327066",
     "exception": false,
     "start_time": "2022-02-06T22:04:08.271564",
     "status": "completed"
    },
    "tags": []
   },
   "outputs": [
    {
     "data": {
      "text/plain": [
       "False"
      ]
     },
     "execution_count": 21,
     "metadata": {},
     "output_type": "execute_result"
    }
   ],
   "source": [
    "housing.isnull().values.any()\n"
   ]
  },
  {
   "cell_type": "code",
   "execution_count": 22,
   "id": "b08a1809",
   "metadata": {
    "execution": {
     "iopub.execute_input": "2022-02-06T22:04:08.429080Z",
     "iopub.status.busy": "2022-02-06T22:04:08.428385Z",
     "iopub.status.idle": "2022-02-06T22:04:08.431499Z",
     "shell.execute_reply": "2022-02-06T22:04:08.431881Z",
     "shell.execute_reply.started": "2022-02-06T21:08:18.560009Z"
    },
    "papermill": {
     "duration": 0.058261,
     "end_time": "2022-02-06T22:04:08.432035",
     "exception": false,
     "start_time": "2022-02-06T22:04:08.373774",
     "status": "completed"
    },
    "tags": []
   },
   "outputs": [
    {
     "data": {
      "text/plain": [
       "area                0\n",
       "bedrooms            0\n",
       "bathrooms           0\n",
       "stories             0\n",
       "mainroad            0\n",
       "guestroom           0\n",
       "basement            0\n",
       "hotwaterheating     0\n",
       "airconditioning     0\n",
       "parking             0\n",
       "prefarea            0\n",
       "furnishingstatus    0\n",
       "area_cat            0\n",
       "dtype: int64"
      ]
     },
     "execution_count": 22,
     "metadata": {},
     "output_type": "execute_result"
    }
   ],
   "source": [
    "housing.isnull().sum()\n"
   ]
  },
  {
   "cell_type": "markdown",
   "id": "884c9610",
   "metadata": {
    "papermill": {
     "duration": 0.046341,
     "end_time": "2022-02-06T22:04:08.525515",
     "exception": false,
     "start_time": "2022-02-06T22:04:08.479174",
     "status": "completed"
    },
    "tags": []
   },
   "source": [
    "# Handling Text and Categorical Attributes\n"
   ]
  },
  {
   "cell_type": "code",
   "execution_count": 23,
   "id": "08f34cf8",
   "metadata": {
    "execution": {
     "iopub.execute_input": "2022-02-06T22:04:08.636120Z",
     "iopub.status.busy": "2022-02-06T22:04:08.635383Z",
     "iopub.status.idle": "2022-02-06T22:04:08.639205Z",
     "shell.execute_reply": "2022-02-06T22:04:08.639712Z",
     "shell.execute_reply.started": "2022-02-06T21:08:20.231086Z"
    },
    "papermill": {
     "duration": 0.067668,
     "end_time": "2022-02-06T22:04:08.639845",
     "exception": false,
     "start_time": "2022-02-06T22:04:08.572177",
     "status": "completed"
    },
    "tags": []
   },
   "outputs": [
    {
     "data": {
      "text/html": [
       "<div>\n",
       "<style scoped>\n",
       "    .dataframe tbody tr th:only-of-type {\n",
       "        vertical-align: middle;\n",
       "    }\n",
       "\n",
       "    .dataframe tbody tr th {\n",
       "        vertical-align: top;\n",
       "    }\n",
       "\n",
       "    .dataframe thead th {\n",
       "        text-align: right;\n",
       "    }\n",
       "</style>\n",
       "<table border=\"1\" class=\"dataframe\">\n",
       "  <thead>\n",
       "    <tr style=\"text-align: right;\">\n",
       "      <th></th>\n",
       "      <th>mainroad</th>\n",
       "      <th>guestroom</th>\n",
       "      <th>basement</th>\n",
       "      <th>hotwaterheating</th>\n",
       "      <th>airconditioning</th>\n",
       "      <th>prefarea</th>\n",
       "      <th>furnishingstatus</th>\n",
       "    </tr>\n",
       "  </thead>\n",
       "  <tbody>\n",
       "    <tr>\n",
       "      <th>524</th>\n",
       "      <td>yes</td>\n",
       "      <td>no</td>\n",
       "      <td>no</td>\n",
       "      <td>no</td>\n",
       "      <td>no</td>\n",
       "      <td>no</td>\n",
       "      <td>unfurnished</td>\n",
       "    </tr>\n",
       "    <tr>\n",
       "      <th>107</th>\n",
       "      <td>yes</td>\n",
       "      <td>no</td>\n",
       "      <td>yes</td>\n",
       "      <td>no</td>\n",
       "      <td>no</td>\n",
       "      <td>yes</td>\n",
       "      <td>unfurnished</td>\n",
       "    </tr>\n",
       "    <tr>\n",
       "      <th>260</th>\n",
       "      <td>yes</td>\n",
       "      <td>no</td>\n",
       "      <td>no</td>\n",
       "      <td>no</td>\n",
       "      <td>yes</td>\n",
       "      <td>no</td>\n",
       "      <td>furnished</td>\n",
       "    </tr>\n",
       "    <tr>\n",
       "      <th>189</th>\n",
       "      <td>no</td>\n",
       "      <td>yes</td>\n",
       "      <td>yes</td>\n",
       "      <td>no</td>\n",
       "      <td>no</td>\n",
       "      <td>no</td>\n",
       "      <td>semi-furnished</td>\n",
       "    </tr>\n",
       "    <tr>\n",
       "      <th>493</th>\n",
       "      <td>yes</td>\n",
       "      <td>no</td>\n",
       "      <td>no</td>\n",
       "      <td>no</td>\n",
       "      <td>no</td>\n",
       "      <td>no</td>\n",
       "      <td>furnished</td>\n",
       "    </tr>\n",
       "  </tbody>\n",
       "</table>\n",
       "</div>"
      ],
      "text/plain": [
       "    mainroad guestroom basement hotwaterheating airconditioning prefarea  \\\n",
       "524      yes        no       no              no              no       no   \n",
       "107      yes        no      yes              no              no      yes   \n",
       "260      yes        no       no              no             yes       no   \n",
       "189       no       yes      yes              no              no       no   \n",
       "493      yes        no       no              no              no       no   \n",
       "\n",
       "    furnishingstatus  \n",
       "524      unfurnished  \n",
       "107      unfurnished  \n",
       "260        furnished  \n",
       "189   semi-furnished  \n",
       "493        furnished  "
      ]
     },
     "execution_count": 23,
     "metadata": {},
     "output_type": "execute_result"
    }
   ],
   "source": [
    "housing_cat = pd.concat([housing['mainroad'],housing['guestroom'],housing['basement'],housing['hotwaterheating'],housing['airconditioning'],housing['prefarea'],housing['furnishingstatus']], \n",
    "                        axis = 1, \n",
    "                        keys = ['mainroad','guestroom','basement','hotwaterheating','airconditioning','prefarea','furnishingstatus'])\n",
    "housing_cat.head()"
   ]
  },
  {
   "cell_type": "code",
   "execution_count": 24,
   "id": "67202ce9",
   "metadata": {
    "execution": {
     "iopub.execute_input": "2022-02-06T22:04:08.737761Z",
     "iopub.status.busy": "2022-02-06T22:04:08.737298Z",
     "iopub.status.idle": "2022-02-06T22:04:08.747980Z",
     "shell.execute_reply": "2022-02-06T22:04:08.748379Z",
     "shell.execute_reply.started": "2022-02-06T21:08:22.970012Z"
    },
    "papermill": {
     "duration": 0.061321,
     "end_time": "2022-02-06T22:04:08.748530",
     "exception": false,
     "start_time": "2022-02-06T22:04:08.687209",
     "status": "completed"
    },
    "tags": []
   },
   "outputs": [
    {
     "data": {
      "text/plain": [
       "<436x15 sparse matrix of type '<class 'numpy.float64'>'\n",
       "\twith 3052 stored elements in Compressed Sparse Row format>"
      ]
     },
     "execution_count": 24,
     "metadata": {},
     "output_type": "execute_result"
    }
   ],
   "source": [
    "from sklearn.preprocessing import OneHotEncoder\n",
    "\n",
    "cat_encoder = OneHotEncoder()\n",
    "housing_cat_1hot = cat_encoder.fit_transform(housing_cat)\n",
    "housing_cat_1hot"
   ]
  },
  {
   "cell_type": "code",
   "execution_count": 25,
   "id": "d48dd06f",
   "metadata": {
    "execution": {
     "iopub.execute_input": "2022-02-06T22:04:08.849105Z",
     "iopub.status.busy": "2022-02-06T22:04:08.848212Z",
     "iopub.status.idle": "2022-02-06T22:04:08.855347Z",
     "shell.execute_reply": "2022-02-06T22:04:08.855766Z",
     "shell.execute_reply.started": "2022-02-06T21:08:24.199140Z"
    },
    "papermill": {
     "duration": 0.058584,
     "end_time": "2022-02-06T22:04:08.855913",
     "exception": false,
     "start_time": "2022-02-06T22:04:08.797329",
     "status": "completed"
    },
    "tags": []
   },
   "outputs": [
    {
     "data": {
      "text/plain": [
       "array([[0., 1., 1., ..., 0., 0., 1.],\n",
       "       [0., 1., 1., ..., 0., 0., 1.],\n",
       "       [0., 1., 1., ..., 1., 0., 0.],\n",
       "       ...,\n",
       "       [0., 1., 1., ..., 0., 0., 1.],\n",
       "       [1., 0., 1., ..., 0., 1., 0.],\n",
       "       [0., 1., 1., ..., 0., 0., 1.]])"
      ]
     },
     "execution_count": 25,
     "metadata": {},
     "output_type": "execute_result"
    }
   ],
   "source": [
    "housing_cat_1hot.toarray()"
   ]
  },
  {
   "cell_type": "code",
   "execution_count": 26,
   "id": "ea2872de",
   "metadata": {
    "execution": {
     "iopub.execute_input": "2022-02-06T22:04:08.960296Z",
     "iopub.status.busy": "2022-02-06T22:04:08.956899Z",
     "iopub.status.idle": "2022-02-06T22:04:08.963803Z",
     "shell.execute_reply": "2022-02-06T22:04:08.964457Z",
     "shell.execute_reply.started": "2022-02-06T21:08:26.443092Z"
    },
    "papermill": {
     "duration": 0.059088,
     "end_time": "2022-02-06T22:04:08.964604",
     "exception": false,
     "start_time": "2022-02-06T22:04:08.905516",
     "status": "completed"
    },
    "tags": []
   },
   "outputs": [
    {
     "data": {
      "text/plain": [
       "[array(['no', 'yes'], dtype=object),\n",
       " array(['no', 'yes'], dtype=object),\n",
       " array(['no', 'yes'], dtype=object),\n",
       " array(['no', 'yes'], dtype=object),\n",
       " array(['no', 'yes'], dtype=object),\n",
       " array(['no', 'yes'], dtype=object),\n",
       " array(['furnished', 'semi-furnished', 'unfurnished'], dtype=object)]"
      ]
     },
     "execution_count": 26,
     "metadata": {},
     "output_type": "execute_result"
    }
   ],
   "source": [
    "cat_encoder.categories_"
   ]
  },
  {
   "cell_type": "markdown",
   "id": "0984d8e2",
   "metadata": {
    "papermill": {
     "duration": 0.047977,
     "end_time": "2022-02-06T22:04:09.060610",
     "exception": false,
     "start_time": "2022-02-06T22:04:09.012633",
     "status": "completed"
    },
    "tags": []
   },
   "source": [
    "# Create Pipeline"
   ]
  },
  {
   "cell_type": "code",
   "execution_count": 27,
   "id": "3f7d480b",
   "metadata": {
    "execution": {
     "iopub.execute_input": "2022-02-06T22:04:09.163593Z",
     "iopub.status.busy": "2022-02-06T22:04:09.163105Z",
     "iopub.status.idle": "2022-02-06T22:04:09.359422Z",
     "shell.execute_reply": "2022-02-06T22:04:09.359803Z",
     "shell.execute_reply.started": "2022-02-06T21:08:32.970339Z"
    },
    "papermill": {
     "duration": 0.251187,
     "end_time": "2022-02-06T22:04:09.359943",
     "exception": false,
     "start_time": "2022-02-06T22:04:09.108756",
     "status": "completed"
    },
    "tags": []
   },
   "outputs": [],
   "source": [
    "from sklearn.pipeline import Pipeline\n",
    "from sklearn.preprocessing import StandardScaler\n",
    "from sklearn.impute import SimpleImputer\n",
    "\n",
    "housing_num = housing.select_dtypes(include=[np.number])\n",
    "imputer = SimpleImputer(strategy=\"median\")\n",
    "num_pipeline = Pipeline([\n",
    "        ('imputer', SimpleImputer(strategy=\"median\")),\n",
    "        ('std_scaler', StandardScaler()),\n",
    "    ])\n",
    "\n",
    "housing_num_tr = num_pipeline.fit_transform(housing_num)"
   ]
  },
  {
   "cell_type": "code",
   "execution_count": 28,
   "id": "a9993732",
   "metadata": {
    "execution": {
     "iopub.execute_input": "2022-02-06T22:04:09.461939Z",
     "iopub.status.busy": "2022-02-06T22:04:09.461428Z",
     "iopub.status.idle": "2022-02-06T22:04:09.481846Z",
     "shell.execute_reply": "2022-02-06T22:04:09.482273Z",
     "shell.execute_reply.started": "2022-02-06T21:08:34.956095Z"
    },
    "papermill": {
     "duration": 0.074448,
     "end_time": "2022-02-06T22:04:09.482424",
     "exception": false,
     "start_time": "2022-02-06T22:04:09.407976",
     "status": "completed"
    },
    "tags": []
   },
   "outputs": [],
   "source": [
    "from sklearn.compose import ColumnTransformer\n",
    "\n",
    "num_attribs = list(housing_num)\n",
    "cat_attribs = ['mainroad','guestroom','basement','hotwaterheating','airconditioning','prefarea','furnishingstatus']\n",
    "\n",
    "full_pipeline = ColumnTransformer([\n",
    "        (\"num\", num_pipeline, num_attribs),\n",
    "        (\"cat\", OneHotEncoder(), cat_attribs),\n",
    "    ])\n",
    "\n",
    "housing_prepared = full_pipeline.fit_transform(housing)"
   ]
  },
  {
   "cell_type": "code",
   "execution_count": 29,
   "id": "94add940",
   "metadata": {
    "execution": {
     "iopub.execute_input": "2022-02-06T22:04:09.585037Z",
     "iopub.status.busy": "2022-02-06T22:04:09.584513Z",
     "iopub.status.idle": "2022-02-06T22:04:09.587177Z",
     "shell.execute_reply": "2022-02-06T22:04:09.587621Z",
     "shell.execute_reply.started": "2022-02-06T21:08:36.754523Z"
    },
    "papermill": {
     "duration": 0.057455,
     "end_time": "2022-02-06T22:04:09.587766",
     "exception": false,
     "start_time": "2022-02-06T22:04:09.530311",
     "status": "completed"
    },
    "tags": []
   },
   "outputs": [
    {
     "data": {
      "text/plain": [
       "array([[-0.86913423, -1.29090909, -0.55930807, ...,  0.        ,\n",
       "         0.        ,  1.        ],\n",
       "       [ 0.58835656,  0.03030303, -0.55930807, ...,  0.        ,\n",
       "         0.        ,  1.        ],\n",
       "       [-0.91623945,  0.03030303, -0.55930807, ...,  1.        ,\n",
       "         0.        ,  0.        ],\n",
       "       ...,\n",
       "       [-0.05818562,  0.03030303, -0.55930807, ...,  0.        ,\n",
       "         0.        ,  1.        ],\n",
       "       [-0.08589457,  1.35151515, -0.55930807, ...,  0.        ,\n",
       "         1.        ,  0.        ],\n",
       "       [-0.0489493 ,  0.03030303, -0.55930807, ...,  0.        ,\n",
       "         0.        ,  1.        ]])"
      ]
     },
     "execution_count": 29,
     "metadata": {},
     "output_type": "execute_result"
    }
   ],
   "source": [
    "housing_prepared"
   ]
  },
  {
   "cell_type": "code",
   "execution_count": 30,
   "id": "8faecc3e",
   "metadata": {
    "execution": {
     "iopub.execute_input": "2022-02-06T22:04:09.690798Z",
     "iopub.status.busy": "2022-02-06T22:04:09.687851Z",
     "iopub.status.idle": "2022-02-06T22:04:09.694371Z",
     "shell.execute_reply": "2022-02-06T22:04:09.694959Z",
     "shell.execute_reply.started": "2022-02-06T21:08:38.743154Z"
    },
    "papermill": {
     "duration": 0.058335,
     "end_time": "2022-02-06T22:04:09.695173",
     "exception": false,
     "start_time": "2022-02-06T22:04:09.636838",
     "status": "completed"
    },
    "tags": []
   },
   "outputs": [
    {
     "data": {
      "text/plain": [
       "(436, 20)"
      ]
     },
     "execution_count": 30,
     "metadata": {},
     "output_type": "execute_result"
    }
   ],
   "source": [
    "housing_prepared.shape"
   ]
  },
  {
   "cell_type": "markdown",
   "id": "d3aa9a05",
   "metadata": {
    "papermill": {
     "duration": 0.07433,
     "end_time": "2022-02-06T22:04:09.845702",
     "exception": false,
     "start_time": "2022-02-06T22:04:09.771372",
     "status": "completed"
    },
    "tags": []
   },
   "source": [
    "# Select and Train a Model\n",
    "\n",
    "# Training and Evaluating on the Training Set\n"
   ]
  },
  {
   "cell_type": "code",
   "execution_count": 31,
   "id": "ebb812d3",
   "metadata": {
    "execution": {
     "iopub.execute_input": "2022-02-06T22:04:09.998659Z",
     "iopub.status.busy": "2022-02-06T22:04:09.998021Z",
     "iopub.status.idle": "2022-02-06T22:04:10.026400Z",
     "shell.execute_reply": "2022-02-06T22:04:10.027027Z",
     "shell.execute_reply.started": "2022-02-06T21:08:40.895419Z"
    },
    "papermill": {
     "duration": 0.106652,
     "end_time": "2022-02-06T22:04:10.027221",
     "exception": false,
     "start_time": "2022-02-06T22:04:09.920569",
     "status": "completed"
    },
    "tags": []
   },
   "outputs": [
    {
     "data": {
      "text/plain": [
       "LinearRegression()"
      ]
     },
     "execution_count": 31,
     "metadata": {},
     "output_type": "execute_result"
    }
   ],
   "source": [
    "from sklearn.linear_model import LinearRegression\n",
    "\n",
    "lin_reg = LinearRegression()\n",
    "lin_reg.fit(housing_prepared, housing_labels)"
   ]
  },
  {
   "cell_type": "code",
   "execution_count": 32,
   "id": "4fc5f093",
   "metadata": {
    "execution": {
     "iopub.execute_input": "2022-02-06T22:04:10.203474Z",
     "iopub.status.busy": "2022-02-06T22:04:10.202813Z",
     "iopub.status.idle": "2022-02-06T22:04:10.210788Z",
     "shell.execute_reply": "2022-02-06T22:04:10.209708Z",
     "shell.execute_reply.started": "2022-02-06T21:32:32.877340Z"
    },
    "papermill": {
     "duration": 0.092702,
     "end_time": "2022-02-06T22:04:10.211060",
     "exception": false,
     "start_time": "2022-02-06T22:04:10.118358",
     "status": "completed"
    },
    "tags": []
   },
   "outputs": [
    {
     "name": "stdout",
     "output_type": "stream",
     "text": [
      "Predictions: [2533638.36926913 5093266.20965077 4680940.90844747 3201247.34970405\n",
      " 3247674.36473871]\n"
     ]
    }
   ],
   "source": [
    "# let's try the full preprocessing pipeline on a few training instances\n",
    "some_data = housing.iloc[:5]\n",
    "some_labels = housing_labels.iloc[:5]\n",
    "some_data_prepared = full_pipeline.transform(some_data)\n",
    "\n",
    "print(\"Predictions:\", lin_reg.predict(some_data_prepared))"
   ]
  },
  {
   "cell_type": "code",
   "execution_count": 33,
   "id": "456f8dad",
   "metadata": {
    "execution": {
     "iopub.execute_input": "2022-02-06T22:04:10.366776Z",
     "iopub.status.busy": "2022-02-06T22:04:10.366126Z",
     "iopub.status.idle": "2022-02-06T22:04:10.370309Z",
     "shell.execute_reply": "2022-02-06T22:04:10.370941Z",
     "shell.execute_reply.started": "2022-02-06T21:12:14.554844Z"
    },
    "papermill": {
     "duration": 0.083612,
     "end_time": "2022-02-06T22:04:10.371137",
     "exception": false,
     "start_time": "2022-02-06T22:04:10.287525",
     "status": "completed"
    },
    "tags": []
   },
   "outputs": [
    {
     "name": "stdout",
     "output_type": "stream",
     "text": [
      "Labels: [2380000, 6125000, 4473000, 5040000, 2800000]\n"
     ]
    }
   ],
   "source": [
    "print(\"Labels:\", list(some_labels))"
   ]
  },
  {
   "cell_type": "code",
   "execution_count": 34,
   "id": "78efe16c",
   "metadata": {
    "execution": {
     "iopub.execute_input": "2022-02-06T22:04:10.528161Z",
     "iopub.status.busy": "2022-02-06T22:04:10.527516Z",
     "iopub.status.idle": "2022-02-06T22:04:10.532567Z",
     "shell.execute_reply": "2022-02-06T22:04:10.533096Z",
     "shell.execute_reply.started": "2022-02-06T21:11:33.328189Z"
    },
    "papermill": {
     "duration": 0.08564,
     "end_time": "2022-02-06T22:04:10.533263",
     "exception": false,
     "start_time": "2022-02-06T22:04:10.447623",
     "status": "completed"
    },
    "tags": []
   },
   "outputs": [
    {
     "data": {
      "text/plain": [
       "1013490.2618800116"
      ]
     },
     "execution_count": 34,
     "metadata": {},
     "output_type": "execute_result"
    }
   ],
   "source": [
    "from sklearn.metrics import mean_squared_error\n",
    "\n",
    "housing_predictions = lin_reg.predict(housing_prepared)\n",
    "lin_mse = mean_squared_error(housing_labels, housing_predictions)\n",
    "lin_rmse = np.sqrt(lin_mse)\n",
    "lin_rmse"
   ]
  },
  {
   "cell_type": "code",
   "execution_count": 35,
   "id": "01d254da",
   "metadata": {
    "execution": {
     "iopub.execute_input": "2022-02-06T22:04:10.700993Z",
     "iopub.status.busy": "2022-02-06T22:04:10.700396Z",
     "iopub.status.idle": "2022-02-06T22:04:10.743928Z",
     "shell.execute_reply": "2022-02-06T22:04:10.744481Z",
     "shell.execute_reply.started": "2022-02-06T21:14:21.309905Z"
    },
    "papermill": {
     "duration": 0.127494,
     "end_time": "2022-02-06T22:04:10.744667",
     "exception": false,
     "start_time": "2022-02-06T22:04:10.617173",
     "status": "completed"
    },
    "tags": []
   },
   "outputs": [
    {
     "data": {
      "text/plain": [
       "DecisionTreeRegressor(random_state=42)"
      ]
     },
     "execution_count": 35,
     "metadata": {},
     "output_type": "execute_result"
    }
   ],
   "source": [
    "from sklearn.tree import DecisionTreeRegressor\n",
    "\n",
    "tree_reg = DecisionTreeRegressor(random_state=42)\n",
    "tree_reg.fit(housing_prepared, housing_labels)\n"
   ]
  },
  {
   "cell_type": "code",
   "execution_count": 36,
   "id": "0f57c848",
   "metadata": {
    "execution": {
     "iopub.execute_input": "2022-02-06T22:04:10.901485Z",
     "iopub.status.busy": "2022-02-06T22:04:10.900805Z",
     "iopub.status.idle": "2022-02-06T22:04:10.905369Z",
     "shell.execute_reply": "2022-02-06T22:04:10.905891Z",
     "shell.execute_reply.started": "2022-02-06T21:14:27.205157Z"
    },
    "papermill": {
     "duration": 0.084852,
     "end_time": "2022-02-06T22:04:10.906079",
     "exception": false,
     "start_time": "2022-02-06T22:04:10.821227",
     "status": "completed"
    },
    "tags": []
   },
   "outputs": [
    {
     "data": {
      "text/plain": [
       "62300.39686503838"
      ]
     },
     "execution_count": 36,
     "metadata": {},
     "output_type": "execute_result"
    }
   ],
   "source": [
    "housing_predictions = tree_reg.predict(housing_prepared)\n",
    "tree_mse = mean_squared_error(housing_labels, housing_predictions)\n",
    "tree_rmse = np.sqrt(tree_mse)\n",
    "tree_rmse"
   ]
  },
  {
   "cell_type": "markdown",
   "id": "479b7d20",
   "metadata": {
    "papermill": {
     "duration": 0.077887,
     "end_time": "2022-02-06T22:04:11.061478",
     "exception": false,
     "start_time": "2022-02-06T22:04:10.983591",
     "status": "completed"
    },
    "tags": []
   },
   "source": [
    "# Better Evaluation Using Cross-Validation\n"
   ]
  },
  {
   "cell_type": "code",
   "execution_count": 37,
   "id": "839db7aa",
   "metadata": {
    "execution": {
     "iopub.execute_input": "2022-02-06T22:04:11.219701Z",
     "iopub.status.busy": "2022-02-06T22:04:11.219037Z",
     "iopub.status.idle": "2022-02-06T22:04:11.251919Z",
     "shell.execute_reply": "2022-02-06T22:04:11.252481Z",
     "shell.execute_reply.started": "2022-02-06T21:18:36.348758Z"
    },
    "papermill": {
     "duration": 0.11332,
     "end_time": "2022-02-06T22:04:11.252649",
     "exception": false,
     "start_time": "2022-02-06T22:04:11.139329",
     "status": "completed"
    },
    "tags": []
   },
   "outputs": [],
   "source": [
    "from sklearn.model_selection import cross_val_score\n",
    "\n",
    "scores = cross_val_score(tree_reg, housing_prepared, housing_labels,\n",
    "                         scoring=\"neg_mean_squared_error\", cv=10)\n",
    "tree_rmse_scores = np.sqrt(-scores)\n"
   ]
  },
  {
   "cell_type": "code",
   "execution_count": 38,
   "id": "66b184df",
   "metadata": {
    "execution": {
     "iopub.execute_input": "2022-02-06T22:04:11.414263Z",
     "iopub.status.busy": "2022-02-06T22:04:11.413523Z",
     "iopub.status.idle": "2022-02-06T22:04:11.416322Z",
     "shell.execute_reply": "2022-02-06T22:04:11.416833Z",
     "shell.execute_reply.started": "2022-02-06T21:18:52.789567Z"
    },
    "papermill": {
     "duration": 0.087088,
     "end_time": "2022-02-06T22:04:11.417028",
     "exception": false,
     "start_time": "2022-02-06T22:04:11.329940",
     "status": "completed"
    },
    "tags": []
   },
   "outputs": [
    {
     "name": "stdout",
     "output_type": "stream",
     "text": [
      "Scores: [1304044.44509101 1671143.26491627 1505900.29123022 1273574.88536653\n",
      " 1777353.65399338 1278591.54626647 2108232.53566076 1530073.85062686\n",
      " 1750127.26595379 1366352.1220584 ]\n",
      "Mean: 1556539.3861163692\n",
      "Standard deviation: 257730.11696790936\n"
     ]
    }
   ],
   "source": [
    "def display_scores(scores):\n",
    "    print(\"Scores:\", scores)\n",
    "    print(\"Mean:\", scores.mean())\n",
    "    print(\"Standard deviation:\", scores.std())\n",
    "\n",
    "display_scores(tree_rmse_scores)"
   ]
  },
  {
   "cell_type": "code",
   "execution_count": 39,
   "id": "c18cb805",
   "metadata": {
    "execution": {
     "iopub.execute_input": "2022-02-06T22:04:11.577893Z",
     "iopub.status.busy": "2022-02-06T22:04:11.577259Z",
     "iopub.status.idle": "2022-02-06T22:04:11.596718Z",
     "shell.execute_reply": "2022-02-06T22:04:11.597482Z",
     "shell.execute_reply.started": "2022-02-06T21:19:25.853746Z"
    },
    "papermill": {
     "duration": 0.101166,
     "end_time": "2022-02-06T22:04:11.597678",
     "exception": false,
     "start_time": "2022-02-06T22:04:11.496512",
     "status": "completed"
    },
    "tags": []
   },
   "outputs": [
    {
     "name": "stdout",
     "output_type": "stream",
     "text": [
      "Scores: [ 956880.9049023  1117413.88666606  759316.20601656  820605.42111931\n",
      " 1230072.8001002  1107622.15582057 1229258.52762657 1177809.48501142\n",
      " 1131385.61409644  870463.06577155]\n",
      "Mean: 1040082.8067130981\n",
      "Standard deviation: 165052.64946733514\n"
     ]
    }
   ],
   "source": [
    "lin_scores = cross_val_score(lin_reg, housing_prepared, housing_labels,\n",
    "                             scoring=\"neg_mean_squared_error\", cv=10)\n",
    "lin_rmse_scores = np.sqrt(-lin_scores)\n",
    "display_scores(lin_rmse_scores)"
   ]
  },
  {
   "cell_type": "markdown",
   "id": "2287b413",
   "metadata": {
    "papermill": {
     "duration": 0.080088,
     "end_time": "2022-02-06T22:04:11.756779",
     "exception": false,
     "start_time": "2022-02-06T22:04:11.676691",
     "status": "completed"
    },
    "tags": []
   },
   "source": [
    "# Linear regression looks better. Let's try Random Forest."
   ]
  },
  {
   "cell_type": "code",
   "execution_count": 40,
   "id": "10733596",
   "metadata": {
    "execution": {
     "iopub.execute_input": "2022-02-06T22:04:11.919943Z",
     "iopub.status.busy": "2022-02-06T22:04:11.919256Z",
     "iopub.status.idle": "2022-02-06T22:04:12.234577Z",
     "shell.execute_reply": "2022-02-06T22:04:12.234965Z",
     "shell.execute_reply.started": "2022-02-06T21:20:29.814124Z"
    },
    "papermill": {
     "duration": 0.399891,
     "end_time": "2022-02-06T22:04:12.235136",
     "exception": false,
     "start_time": "2022-02-06T22:04:11.835245",
     "status": "completed"
    },
    "tags": []
   },
   "outputs": [
    {
     "data": {
      "text/plain": [
       "RandomForestRegressor(random_state=42)"
      ]
     },
     "execution_count": 40,
     "metadata": {},
     "output_type": "execute_result"
    }
   ],
   "source": [
    "from sklearn.ensemble import RandomForestRegressor\n",
    "\n",
    "forest_reg = RandomForestRegressor(n_estimators=100, random_state=42)\n",
    "forest_reg.fit(housing_prepared, housing_labels)"
   ]
  },
  {
   "cell_type": "code",
   "execution_count": 41,
   "id": "35c2dcca",
   "metadata": {
    "execution": {
     "iopub.execute_input": "2022-02-06T22:04:12.341787Z",
     "iopub.status.busy": "2022-02-06T22:04:12.341240Z",
     "iopub.status.idle": "2022-02-06T22:04:12.362856Z",
     "shell.execute_reply": "2022-02-06T22:04:12.363341Z",
     "shell.execute_reply.started": "2022-02-06T21:20:36.106172Z"
    },
    "papermill": {
     "duration": 0.076967,
     "end_time": "2022-02-06T22:04:12.363479",
     "exception": false,
     "start_time": "2022-02-06T22:04:12.286512",
     "status": "completed"
    },
    "tags": []
   },
   "outputs": [
    {
     "data": {
      "text/plain": [
       "430864.36440339923"
      ]
     },
     "execution_count": 41,
     "metadata": {},
     "output_type": "execute_result"
    }
   ],
   "source": [
    "housing_predictions = forest_reg.predict(housing_prepared)\n",
    "forest_mse = mean_squared_error(housing_labels, housing_predictions)\n",
    "forest_rmse = np.sqrt(forest_mse)\n",
    "forest_rmse"
   ]
  },
  {
   "cell_type": "code",
   "execution_count": 42,
   "id": "19c913ea",
   "metadata": {
    "execution": {
     "iopub.execute_input": "2022-02-06T22:04:12.470864Z",
     "iopub.status.busy": "2022-02-06T22:04:12.470340Z",
     "iopub.status.idle": "2022-02-06T22:04:15.240729Z",
     "shell.execute_reply": "2022-02-06T22:04:15.239685Z",
     "shell.execute_reply.started": "2022-02-06T21:20:50.368078Z"
    },
    "papermill": {
     "duration": 2.824852,
     "end_time": "2022-02-06T22:04:15.240982",
     "exception": false,
     "start_time": "2022-02-06T22:04:12.416130",
     "status": "completed"
    },
    "tags": []
   },
   "outputs": [
    {
     "name": "stdout",
     "output_type": "stream",
     "text": [
      "Scores: [ 958783.73074222 1293192.56722683  932240.69574044  996735.00321291\n",
      " 1113418.07101968 1072845.0941803  1298909.97866807 1278457.50249992\n",
      " 1286910.29020632 1041046.40020271]\n",
      "Mean: 1127253.9333699401\n",
      "Standard deviation: 141203.80819468494\n"
     ]
    }
   ],
   "source": [
    "from sklearn.model_selection import cross_val_score\n",
    "\n",
    "forest_scores = cross_val_score(forest_reg, housing_prepared, housing_labels,\n",
    "                                scoring=\"neg_mean_squared_error\", cv=10)\n",
    "forest_rmse_scores = np.sqrt(-forest_scores)\n",
    "display_scores(forest_rmse_scores)"
   ]
  },
  {
   "cell_type": "markdown",
   "id": "49c52599",
   "metadata": {
    "papermill": {
     "duration": 0.078828,
     "end_time": "2022-02-06T22:04:15.399223",
     "exception": false,
     "start_time": "2022-02-06T22:04:15.320395",
     "status": "completed"
    },
    "tags": []
   },
   "source": [
    "# Since our dataset is quite small, I am having a hard time choosing a model."
   ]
  },
  {
   "cell_type": "markdown",
   "id": "494d2fb6",
   "metadata": {
    "papermill": {
     "duration": 0.078799,
     "end_time": "2022-02-06T22:04:15.557456",
     "exception": false,
     "start_time": "2022-02-06T22:04:15.478657",
     "status": "completed"
    },
    "tags": []
   },
   "source": [
    "# Fine-Tune Your Model\n",
    "# Grid Search\n"
   ]
  },
  {
   "cell_type": "code",
   "execution_count": 43,
   "id": "9e203bce",
   "metadata": {
    "execution": {
     "iopub.execute_input": "2022-02-06T22:04:15.730936Z",
     "iopub.status.busy": "2022-02-06T22:04:15.730103Z",
     "iopub.status.idle": "2022-02-06T22:04:18.327559Z",
     "shell.execute_reply": "2022-02-06T22:04:18.326971Z",
     "shell.execute_reply.started": "2022-02-06T21:42:52.479619Z"
    },
    "papermill": {
     "duration": 2.691184,
     "end_time": "2022-02-06T22:04:18.327706",
     "exception": false,
     "start_time": "2022-02-06T22:04:15.636522",
     "status": "completed"
    },
    "tags": []
   },
   "outputs": [
    {
     "data": {
      "text/plain": [
       "GridSearchCV(cv=5, estimator=RandomForestRegressor(random_state=42),\n",
       "             param_grid=[{'max_features': [2, 4, 6, 8],\n",
       "                          'n_estimators': [3, 10, 30]},\n",
       "                         {'bootstrap': [False], 'max_features': [2, 3, 4],\n",
       "                          'n_estimators': [3, 10]}],\n",
       "             return_train_score=True, scoring='neg_mean_squared_error')"
      ]
     },
     "execution_count": 43,
     "metadata": {},
     "output_type": "execute_result"
    }
   ],
   "source": [
    "from sklearn.model_selection import GridSearchCV\n",
    "\n",
    "param_grid = [\n",
    "    # try 12 (3×4) combinations of hyperparameters\n",
    "    {'n_estimators': [3, 10, 30], 'max_features': [2, 4, 6, 8]},\n",
    "    # then try 6 (2×3) combinations with bootstrap set as False\n",
    "    {'bootstrap': [False], 'n_estimators': [3, 10], 'max_features': [2, 3, 4]},\n",
    "  ]\n",
    "\n",
    "forest_reg = RandomForestRegressor(random_state=42)\n",
    "# train across 5 folds, that's a total of (12+6)*5=90 rounds of training \n",
    "grid_search = GridSearchCV(forest_reg, param_grid, cv=5,\n",
    "                           scoring='neg_mean_squared_error',\n",
    "                           return_train_score=True)\n",
    "grid_search.fit(housing_prepared, housing_labels)"
   ]
  },
  {
   "cell_type": "code",
   "execution_count": 44,
   "id": "1bc68fa2",
   "metadata": {
    "execution": {
     "iopub.execute_input": "2022-02-06T22:04:18.494349Z",
     "iopub.status.busy": "2022-02-06T22:04:18.493596Z",
     "iopub.status.idle": "2022-02-06T22:04:18.496420Z",
     "shell.execute_reply": "2022-02-06T22:04:18.496917Z",
     "shell.execute_reply.started": "2022-02-06T21:43:10.525353Z"
    },
    "papermill": {
     "duration": 0.088496,
     "end_time": "2022-02-06T22:04:18.497108",
     "exception": false,
     "start_time": "2022-02-06T22:04:18.408612",
     "status": "completed"
    },
    "tags": []
   },
   "outputs": [
    {
     "data": {
      "text/plain": [
       "{'max_features': 6, 'n_estimators': 30}"
      ]
     },
     "execution_count": 44,
     "metadata": {},
     "output_type": "execute_result"
    }
   ],
   "source": [
    "grid_search.best_params_\n"
   ]
  },
  {
   "cell_type": "code",
   "execution_count": 45,
   "id": "9f036ad8",
   "metadata": {
    "execution": {
     "iopub.execute_input": "2022-02-06T22:04:18.661549Z",
     "iopub.status.busy": "2022-02-06T22:04:18.660806Z",
     "iopub.status.idle": "2022-02-06T22:04:18.665990Z",
     "shell.execute_reply": "2022-02-06T22:04:18.665471Z",
     "shell.execute_reply.started": "2022-02-06T21:43:21.490554Z"
    },
    "papermill": {
     "duration": 0.08919,
     "end_time": "2022-02-06T22:04:18.666129",
     "exception": false,
     "start_time": "2022-02-06T22:04:18.576939",
     "status": "completed"
    },
    "tags": []
   },
   "outputs": [
    {
     "data": {
      "text/plain": [
       "RandomForestRegressor(max_features=6, n_estimators=30, random_state=42)"
      ]
     },
     "execution_count": 45,
     "metadata": {},
     "output_type": "execute_result"
    }
   ],
   "source": [
    "grid_search.best_estimator_\n"
   ]
  },
  {
   "cell_type": "markdown",
   "id": "a3664d1c",
   "metadata": {
    "papermill": {
     "duration": 0.051169,
     "end_time": "2022-02-06T22:04:18.768868",
     "exception": false,
     "start_time": "2022-02-06T22:04:18.717699",
     "status": "completed"
    },
    "tags": []
   },
   "source": [
    "# Analyze the Best Models and Their Errors\n"
   ]
  },
  {
   "cell_type": "code",
   "execution_count": 46,
   "id": "91483baa",
   "metadata": {
    "execution": {
     "iopub.execute_input": "2022-02-06T22:04:18.881324Z",
     "iopub.status.busy": "2022-02-06T22:04:18.880798Z",
     "iopub.status.idle": "2022-02-06T22:04:18.887308Z",
     "shell.execute_reply": "2022-02-06T22:04:18.886820Z",
     "shell.execute_reply.started": "2022-02-06T21:53:14.193886Z"
    },
    "papermill": {
     "duration": 0.065714,
     "end_time": "2022-02-06T22:04:18.887422",
     "exception": false,
     "start_time": "2022-02-06T22:04:18.821708",
     "status": "completed"
    },
    "tags": []
   },
   "outputs": [
    {
     "data": {
      "text/plain": [
       "array([0.31770718, 0.06012796, 0.16375215, 0.06767579, 0.08001343,\n",
       "       0.01023433, 0.00892747, 0.02082839, 0.0142814 , 0.0160711 ,\n",
       "       0.01586083, 0.00806864, 0.01418724, 0.05391782, 0.04827353,\n",
       "       0.02583841, 0.01739976, 0.01538143, 0.01330194, 0.02815119])"
      ]
     },
     "execution_count": 46,
     "metadata": {},
     "output_type": "execute_result"
    }
   ],
   "source": [
    "feature_importances = grid_search.best_estimator_.feature_importances_\n",
    "feature_importances"
   ]
  },
  {
   "cell_type": "code",
   "execution_count": 47,
   "id": "d5b1f34e",
   "metadata": {
    "execution": {
     "iopub.execute_input": "2022-02-06T22:04:18.996389Z",
     "iopub.status.busy": "2022-02-06T22:04:18.995867Z",
     "iopub.status.idle": "2022-02-06T22:04:19.005346Z",
     "shell.execute_reply": "2022-02-06T22:04:19.004909Z",
     "shell.execute_reply.started": "2022-02-06T21:55:22.755869Z"
    },
    "papermill": {
     "duration": 0.065169,
     "end_time": "2022-02-06T22:04:19.005474",
     "exception": false,
     "start_time": "2022-02-06T22:04:18.940305",
     "status": "completed"
    },
    "tags": []
   },
   "outputs": [
    {
     "data": {
      "text/plain": [
       "[(0.31770717726884373, 'area'),\n",
       " (0.16375215029840018, 'bathrooms'),\n",
       " (0.08001343489791896, 'parking'),\n",
       " (0.06767578599251829, 'stories'),\n",
       " (0.06012796147555445, 'bedrooms'),\n",
       " (0.053917822858296896, 'area_cat'),\n",
       " (0.020828389726438152, array(['no', 'yes'], dtype=object)),\n",
       " (0.016071102144753286, array(['no', 'yes'], dtype=object)),\n",
       " (0.01586083420973123, array(['no', 'yes'], dtype=object)),\n",
       " (0.014281396723834187, array(['no', 'yes'], dtype=object)),\n",
       " (0.014187241907104442, 'lux_home'),\n",
       " (0.010234331304528086, array(['no', 'yes'], dtype=object)),\n",
       " (0.008927472498301978, array(['no', 'yes'], dtype=object)),\n",
       " (0.008068642624007118,\n",
       "  array(['furnished', 'semi-furnished', 'unfurnished'], dtype=object))]"
      ]
     },
     "execution_count": 47,
     "metadata": {},
     "output_type": "execute_result"
    }
   ],
   "source": [
    "extra_attribs = [\"lux_home\",\"area_cat\"]\n",
    "cat_encoder = full_pipeline.named_transformers_[\"cat\"]\n",
    "cat_one_hot_attribs = list(cat_encoder.categories_)\n",
    "attributes = num_attribs + cat_one_hot_attribs + extra_attribs\n",
    "sorted(zip(feature_importances, attributes), reverse=True)"
   ]
  },
  {
   "cell_type": "markdown",
   "id": "c6abb729",
   "metadata": {
    "papermill": {
     "duration": 0.053327,
     "end_time": "2022-02-06T22:04:19.112541",
     "exception": false,
     "start_time": "2022-02-06T22:04:19.059214",
     "status": "completed"
    },
    "tags": []
   },
   "source": [
    "# Evaluate Your System on the Test Set\n"
   ]
  },
  {
   "cell_type": "code",
   "execution_count": 48,
   "id": "f7a6ed5a",
   "metadata": {
    "execution": {
     "iopub.execute_input": "2022-02-06T22:04:19.234777Z",
     "iopub.status.busy": "2022-02-06T22:04:19.229981Z",
     "iopub.status.idle": "2022-02-06T22:04:19.243510Z",
     "shell.execute_reply": "2022-02-06T22:04:19.243043Z",
     "shell.execute_reply.started": "2022-02-06T21:56:28.637311Z"
    },
    "papermill": {
     "duration": 0.077438,
     "end_time": "2022-02-06T22:04:19.243660",
     "exception": false,
     "start_time": "2022-02-06T22:04:19.166222",
     "status": "completed"
    },
    "tags": []
   },
   "outputs": [],
   "source": [
    "final_model = grid_search.best_estimator_\n",
    "\n",
    "X_test = strat_test_set.drop(\"price\", axis=1)\n",
    "y_test = strat_test_set[\"price\"].copy()\n",
    "\n",
    "X_test_prepared = full_pipeline.transform(X_test)\n",
    "final_predictions = final_model.predict(X_test_prepared)\n",
    "\n",
    "final_mse = mean_squared_error(y_test, final_predictions)\n",
    "final_rmse = np.sqrt(final_mse)"
   ]
  },
  {
   "cell_type": "code",
   "execution_count": 49,
   "id": "191c9099",
   "metadata": {
    "execution": {
     "iopub.execute_input": "2022-02-06T22:04:19.357791Z",
     "iopub.status.busy": "2022-02-06T22:04:19.357050Z",
     "iopub.status.idle": "2022-02-06T22:04:19.360820Z",
     "shell.execute_reply": "2022-02-06T22:04:19.361314Z",
     "shell.execute_reply.started": "2022-02-06T21:56:36.048020Z"
    },
    "papermill": {
     "duration": 0.063117,
     "end_time": "2022-02-06T22:04:19.361461",
     "exception": false,
     "start_time": "2022-02-06T22:04:19.298344",
     "status": "completed"
    },
    "tags": []
   },
   "outputs": [
    {
     "data": {
      "text/plain": [
       "1217359.2804330105"
      ]
     },
     "execution_count": 49,
     "metadata": {},
     "output_type": "execute_result"
    }
   ],
   "source": [
    "final_rmse\n"
   ]
  },
  {
   "cell_type": "markdown",
   "id": "712d8239",
   "metadata": {
    "papermill": {
     "duration": 0.053634,
     "end_time": "2022-02-06T22:04:19.468622",
     "exception": false,
     "start_time": "2022-02-06T22:04:19.414988",
     "status": "completed"
    },
    "tags": []
   },
   "source": [
    "# We can compute a 95% confidence interval for the test RMSE:\n"
   ]
  },
  {
   "cell_type": "code",
   "execution_count": 50,
   "id": "295071ec",
   "metadata": {
    "execution": {
     "iopub.execute_input": "2022-02-06T22:04:19.584327Z",
     "iopub.status.busy": "2022-02-06T22:04:19.579540Z",
     "iopub.status.idle": "2022-02-06T22:04:19.592415Z",
     "shell.execute_reply": "2022-02-06T22:04:19.592913Z",
     "shell.execute_reply.started": "2022-02-06T21:59:36.008712Z"
    },
    "papermill": {
     "duration": 0.0698,
     "end_time": "2022-02-06T22:04:19.593100",
     "exception": false,
     "start_time": "2022-02-06T22:04:19.523300",
     "status": "completed"
    },
    "tags": []
   },
   "outputs": [
    {
     "data": {
      "text/plain": [
       "array([ 879357.6628748, 1480086.9353035])"
      ]
     },
     "execution_count": 50,
     "metadata": {},
     "output_type": "execute_result"
    }
   ],
   "source": [
    "from scipy import stats\n",
    "\n",
    "confidence = 0.95\n",
    "squared_errors = (final_predictions - y_test) ** 2\n",
    "np.sqrt(stats.t.interval(confidence, len(squared_errors) - 1,\n",
    "                         loc=squared_errors.mean(),\n",
    "                         scale=stats.sem(squared_errors)))\n",
    "\n"
   ]
  },
  {
   "cell_type": "code",
   "execution_count": 51,
   "id": "6909a0da",
   "metadata": {
    "execution": {
     "iopub.execute_input": "2022-02-06T22:04:19.761725Z",
     "iopub.status.busy": "2022-02-06T22:04:19.761042Z",
     "iopub.status.idle": "2022-02-06T22:04:19.767346Z",
     "shell.execute_reply": "2022-02-06T22:04:19.766798Z",
     "shell.execute_reply.started": "2022-02-06T22:00:33.741725Z"
    },
    "papermill": {
     "duration": 0.091671,
     "end_time": "2022-02-06T22:04:19.767483",
     "exception": false,
     "start_time": "2022-02-06T22:04:19.675812",
     "status": "completed"
    },
    "tags": []
   },
   "outputs": [
    {
     "data": {
      "text/plain": [
       "(883861.1555981532, 1477402.0078967845)"
      ]
     },
     "execution_count": 51,
     "metadata": {},
     "output_type": "execute_result"
    }
   ],
   "source": [
    "m = len(squared_errors)\n",
    "mean = squared_errors.mean()\n",
    "zscore = stats.norm.ppf((1 + confidence) / 2)\n",
    "zmargin = zscore * squared_errors.std(ddof=1) / np.sqrt(m)\n",
    "np.sqrt(mean - zmargin), np.sqrt(mean + zmargin)"
   ]
  },
  {
   "cell_type": "markdown",
   "id": "67520b2b",
   "metadata": {
    "papermill": {
     "duration": 0.082259,
     "end_time": "2022-02-06T22:04:19.931788",
     "exception": false,
     "start_time": "2022-02-06T22:04:19.849529",
     "status": "completed"
    },
    "tags": []
   },
   "source": [
    "# Here are the basic steps of end-to-end machine learning. We could not create the desired model due to insufficient data set. :(\n",
    "\n",
    "# THANK YOU"
   ]
  }
 ],
 "metadata": {
  "kernelspec": {
   "display_name": "Python 3",
   "language": "python",
   "name": "python3"
  },
  "language_info": {
   "codemirror_mode": {
    "name": "ipython",
    "version": 3
   },
   "file_extension": ".py",
   "mimetype": "text/x-python",
   "name": "python",
   "nbconvert_exporter": "python",
   "pygments_lexer": "ipython3",
   "version": "3.7.12"
  },
  "papermill": {
   "default_parameters": {},
   "duration": 30.928584,
   "end_time": "2022-02-06T22:04:20.825037",
   "environment_variables": {},
   "exception": null,
   "input_path": "__notebook__.ipynb",
   "output_path": "__notebook__.ipynb",
   "parameters": {},
   "start_time": "2022-02-06T22:03:49.896453",
   "version": "2.3.3"
  }
 },
 "nbformat": 4,
 "nbformat_minor": 5
}
